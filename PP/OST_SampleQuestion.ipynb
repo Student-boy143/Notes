{
  "nbformat": 4,
  "nbformat_minor": 0,
  "metadata": {
    "colab": {
      "provenance": []
    },
    "kernelspec": {
      "name": "python3",
      "display_name": "Python 3"
    },
    "language_info": {
      "name": "python"
    }
  },
  "cells": [
    {
      "cell_type": "markdown",
      "source": [
        "**Write a Python program that takes a string from the user, removes all vowels from the string, extracts the remaining letters, and sorts them in alphabetical order. The program should then print the sorted letters as a list.**"
      ],
      "metadata": {
        "id": "n2oJzw3zuzKw"
      }
    },
    {
      "cell_type": "code",
      "execution_count": null,
      "metadata": {
        "colab": {
          "base_uri": "https://localhost:8080/"
        },
        "id": "8qoBJoVyuvUV",
        "outputId": "cc5df24c-9ed4-4b12-afbf-a50ff8ac9070"
      },
      "outputs": [
        {
          "output_type": "stream",
          "name": "stdout",
          "text": [
            "Enter a string: grishma\n",
            "Sorted letters without vowels: ['g', 'h', 'm', 'r', 's']\n"
          ]
        }
      ],
      "source": [
        "# Take input from the user\n",
        "user_input = input(\"Enter a string: \")\n",
        "\n",
        "# Define vowels\n",
        "vowels = \"aeiouAEIOU\"\n",
        "\n",
        "# Remove vowels from the string\n",
        "no_vowels = ''.join([char for char in user_input if char not in vowels])\n",
        "\n",
        "# Extract remaining letters and sort them\n",
        "sorted_letters = sorted(no_vowels)\n",
        "\n",
        "# Print the sorted letters as a list\n",
        "print(\"Sorted letters without vowels:\", sorted_letters)\n"
      ]
    },
    {
      "cell_type": "code",
      "source": [
        "# Take input from the user\n",
        "user_input = input(\"Enter a string: \")\n",
        "\n",
        "# Define vowels\n",
        "vowels = \"aeiouAEIOU\"\n",
        "\n",
        "# Remove vowels using a for loop\n",
        "no_vowels = \"\"\n",
        "for char in user_input:\n",
        "    if char not in vowels:\n",
        "        no_vowels += char\n",
        "\n",
        "# Sort the remaining letters\n",
        "sorted_letters = sorted(no_vowels)\n",
        "\n",
        "# Print the sorted letters as a list\n",
        "print(\"Sorted letters without vowels:\", sorted_letters)\n"
      ],
      "metadata": {
        "colab": {
          "base_uri": "https://localhost:8080/"
        },
        "id": "irVBQOCKve4j",
        "outputId": "58895efb-5a13-4fc5-b21d-887c3af15e35"
      },
      "execution_count": null,
      "outputs": [
        {
          "output_type": "stream",
          "name": "stdout",
          "text": [
            "Enter a string: grishma\n",
            "Sorted letters without vowels: ['g', 'h', 'm', 'r', 's']\n"
          ]
        }
      ]
    },
    {
      "cell_type": "code",
      "source": [
        "# Take input from the user\n",
        "user_input = input(\"Enter a string: \")\n",
        "\n",
        "# Define vowels\n",
        "vowels = \"aeiouAEIOU\"\n",
        "\n",
        "# Remove vowels using filter and str.join\n",
        "no_vowels = ''.join(filter(lambda char: char not in vowels, user_input))\n",
        "\n",
        "# Sort the remaining letters\n",
        "sorted_letters = sorted(no_vowels)\n",
        "\n",
        "# Print the sorted letters as a list\n",
        "print(\"Sorted letters without vowels:\", sorted_letters)\n"
      ],
      "metadata": {
        "colab": {
          "base_uri": "https://localhost:8080/"
        },
        "id": "XNbY5jUzwve9",
        "outputId": "b8262250-14e1-4b4d-c332-20df6b0b5afb"
      },
      "execution_count": null,
      "outputs": [
        {
          "output_type": "stream",
          "name": "stdout",
          "text": [
            "Enter a string: grishma\n",
            "Sorted letters without vowels: ['g', 'h', 'm', 'r', 's']\n"
          ]
        }
      ]
    },
    {
      "cell_type": "code",
      "source": [
        "#Using List Comprehension with set\n",
        "# Take input from the user\n",
        "user_input = input(\"Enter a string: \")\n",
        "\n",
        "# Define vowels as a set for faster lookup\n",
        "vowels = set(\"aeiouAEIOU\")\n",
        "\n",
        "# Remove vowels using list comprehension\n",
        "no_vowels = [char for char in user_input if char not in vowels]\n",
        "\n",
        "# Sort the remaining letters\n",
        "sorted_letters = sorted(no_vowels)\n",
        "\n",
        "# Print the sorted letters as a list\n",
        "print(\"Sorted letters without vowels:\", sorted_letters)\n"
      ],
      "metadata": {
        "colab": {
          "base_uri": "https://localhost:8080/"
        },
        "id": "lFo8k-00w9ir",
        "outputId": "adac3ec3-2bd8-4b2c-d0b1-0aa36f8f7ebd"
      },
      "execution_count": null,
      "outputs": [
        {
          "output_type": "stream",
          "name": "stdout",
          "text": [
            "Enter a string: grishma\n",
            "Sorted letters without vowels: ['g', 'h', 'm', 'r', 's']\n"
          ]
        }
      ]
    },
    {
      "cell_type": "markdown",
      "source": [
        "**Write a Python program that takes a list of words from the user, identifies and removes any words that are palindromes (words that read the same backward as forward), and then sorts the remaining words in reverse alphabetical order. The program should finally print the updated list as a tuple.**\n",
        "\n",
        "**Sample Input:**\n",
        "\n",
        "**words = ['level', 'world', 'civic', 'python', 'madam', 'programming']**\n",
        "\n",
        "**Expected Output:**\n",
        "\n",
        "**('world', 'python', 'programming')**\n"
      ],
      "metadata": {
        "id": "06kJ5fDnvvSD"
      }
    },
    {
      "cell_type": "code",
      "source": [
        "# Take input from the user\n",
        "words = input(\"Enter a list of words separated by commas: \").split(',')\n",
        "\n",
        "# Strip any extra whitespace from each word\n",
        "words = [word.strip() for word in words]\n",
        "\n",
        "# Identify and remove palindromes\n",
        "non_palindromes = [word for word in words if word.lower() != word[::-1].lower()]\n",
        "\n",
        "# Sort the remaining words in reverse alphabetical order\n",
        "sorted_words = sorted(non_palindromes, reverse=True)\n",
        "\n",
        "# Print the updated list as a tuple\n",
        "print(tuple(sorted_words))\n"
      ],
      "metadata": {
        "colab": {
          "base_uri": "https://localhost:8080/"
        },
        "id": "SHWs6JDavvyX",
        "outputId": "c0d3d5c4-9ca1-4fb6-ee8f-f3982161719d"
      },
      "execution_count": null,
      "outputs": [
        {
          "output_type": "stream",
          "name": "stdout",
          "text": [
            "Enter a list of words separated by commas: level, world, civic, python\n",
            "('world', 'python')\n"
          ]
        }
      ]
    },
    {
      "cell_type": "markdown",
      "source": [
        "The program prompts the user to enter a list of words separated by commas.\n",
        "\n",
        "It splits the input string into a list and removes any extra whitespace around each word.\n",
        "\n",
        "It uses a list comprehension to filter out palindromes by comparing each word to its reverse.\n",
        "\n",
        "The remaining words are sorted in reverse alphabetical order.\n",
        "\n",
        "Finally, the sorted words are printed as a tuple."
      ],
      "metadata": {
        "id": "2Mtz-hlpwgyN"
      }
    },
    {
      "cell_type": "code",
      "source": [
        "# Take input from the user\n",
        "words = input(\"Enter a list of words separated by commas: \").split(',')\n",
        "\n",
        "# Strip any extra whitespace from each word\n",
        "words = [word.strip() for word in words]\n",
        "\n",
        "# Remove palindromes using a for loop\n",
        "non_palindromes = []\n",
        "for word in words:\n",
        "    if word.lower() != word[::-1].lower():\n",
        "        non_palindromes.append(word)\n",
        "\n",
        "# Sort the remaining words in reverse alphabetical order\n",
        "sorted_words = sorted(non_palindromes, reverse=True)\n",
        "\n",
        "# Print the updated list as a tuple\n",
        "print(tuple(sorted_words))\n"
      ],
      "metadata": {
        "colab": {
          "base_uri": "https://localhost:8080/"
        },
        "id": "GZREcXpexS6R",
        "outputId": "c1ee7a1a-4074-46eb-810a-4ec087168533"
      },
      "execution_count": null,
      "outputs": [
        {
          "output_type": "stream",
          "name": "stdout",
          "text": [
            "Enter a list of words separated by commas: world, level, civic, python\n",
            "('world', 'python')\n"
          ]
        }
      ]
    },
    {
      "cell_type": "code",
      "source": [
        "# Using List Comprehension with Condition\n",
        "# Take input from the user\n",
        "words = input(\"Enter a list of words separated by commas: \").split(',')\n",
        "\n",
        "# Strip any extra whitespace from each word\n",
        "words = [word.strip() for word in words]\n",
        "\n",
        "# Remove palindromes using a list comprehension\n",
        "non_palindromes = [word for word in words if word.lower() != word[::-1].lower()]\n",
        "\n",
        "# Sort the remaining words in reverse alphabetical order\n",
        "sorted_words = sorted(non_palindromes, reverse=True)\n",
        "\n",
        "# Print the updated list as a tuple\n",
        "print(tuple(sorted_words))\n"
      ],
      "metadata": {
        "colab": {
          "base_uri": "https://localhost:8080/"
        },
        "id": "3vXjNDnkxjbb",
        "outputId": "e99d4cca-707a-498a-861c-e616ec7d71ec"
      },
      "execution_count": null,
      "outputs": [
        {
          "output_type": "stream",
          "name": "stdout",
          "text": [
            "Enter a list of words separated by commas: level, civic, python, world\n",
            "('world', 'python')\n"
          ]
        }
      ]
    },
    {
      "cell_type": "markdown",
      "source": [
        "**Write a Python program that takes a dictionary where the keys are strings and the values are integers. Your program should return a new dictionary containing only the key-value pairs where the value is an even number.**\n",
        "\n",
        "**Sample Dictionary: {'a': 3, 'b': 4, 'c': 10, 'd': 5, 'e': 12}**\n",
        "\n",
        "**Expected Result: {'b': 4, 'c': 10, 'e': 12}**\n"
      ],
      "metadata": {
        "id": "UdW1pr71x200"
      }
    },
    {
      "cell_type": "code",
      "source": [
        "# Sample dictionary\n",
        "input_dict = {'a': 3, 'b': 4, 'c': 10, 'd': 5, 'e': 12}\n",
        "\n",
        "# Create a new dictionary with only even values\n",
        "even_dict = {key: value for key, value in input_dict.items() if value % 2 == 0}\n",
        "\n",
        "# Print the result\n",
        "print(even_dict)\n"
      ],
      "metadata": {
        "colab": {
          "base_uri": "https://localhost:8080/"
        },
        "id": "6MMZKK4tx8UQ",
        "outputId": "04be74ee-54e1-419d-c143-eea692895632"
      },
      "execution_count": null,
      "outputs": [
        {
          "output_type": "stream",
          "name": "stdout",
          "text": [
            "{'b': 4, 'c': 10, 'e': 12}\n"
          ]
        }
      ]
    },
    {
      "cell_type": "markdown",
      "source": [
        "The program defines a sample dictionary called input_dict.\n",
        "\n",
        "It uses a dictionary comprehension to create a new dictionary called even_dict, filtering out key-value pairs where the value is even (value % 2 == 0).\n",
        "\n",
        "Finally, it prints the new dictionary containing only the even values."
      ],
      "metadata": {
        "id": "qN5VzvA3yQ-h"
      }
    },
    {
      "cell_type": "code",
      "source": [
        "# using for loop\n",
        "# Sample dictionary\n",
        "input_dict = {'a': 3, 'b': 4, 'c': 10, 'd': 5, 'e': 12}\n",
        "\n",
        "# Create a new dictionary using a for loop\n",
        "even_dict = {}\n",
        "for key, value in input_dict.items():\n",
        "    if value % 2 == 0:\n",
        "        even_dict[key] = value\n",
        "\n",
        "# Print the result\n",
        "print(even_dict)\n"
      ],
      "metadata": {
        "colab": {
          "base_uri": "https://localhost:8080/"
        },
        "id": "exhNTAlMyZSZ",
        "outputId": "11f1a119-a2ac-40aa-b3bc-f18fd0cd8e5f"
      },
      "execution_count": null,
      "outputs": [
        {
          "output_type": "stream",
          "name": "stdout",
          "text": [
            "{'b': 4, 'c': 10, 'e': 12}\n"
          ]
        }
      ]
    },
    {
      "cell_type": "code",
      "source": [
        "# Function to take dictionary input from the user\n",
        "def input_dictionary():\n",
        "    user_dict = {}\n",
        "    while True:\n",
        "        key = input(\"Enter a key (or type 'done' to finish): \")\n",
        "        if key.lower() == 'done':\n",
        "            break\n",
        "        value = int(input(f\"Enter an integer value for key '{key}': \"))\n",
        "        user_dict[key] = value\n",
        "    return user_dict\n",
        "\n",
        "# Take input from the user\n",
        "input_dict = input_dictionary()\n",
        "\n",
        "# Create a new dictionary with only even values\n",
        "even_dict = {key: value for key, value in input_dict.items() if value % 2 == 0}\n",
        "\n",
        "# Print the result\n",
        "print(\"Filtered dictionary with even values:\", even_dict)\n"
      ],
      "metadata": {
        "colab": {
          "base_uri": "https://localhost:8080/"
        },
        "id": "Rj7JqkFfzGIX",
        "outputId": "f2b42bd1-2838-4cff-a794-93c2ce54288e"
      },
      "execution_count": null,
      "outputs": [
        {
          "output_type": "stream",
          "name": "stdout",
          "text": [
            "Enter a key (or type 'done' to finish): a\n",
            "Enter an integer value for key 'a': 12\n",
            "Enter a key (or type 'done' to finish): r\n",
            "Enter an integer value for key 'r': 9\n",
            "Enter a key (or type 'done' to finish): h\n",
            "Enter an integer value for key 'h': 10\n",
            "Enter a key (or type 'done' to finish): u\n",
            "Enter an integer value for key 'u': 3\n",
            "Enter a key (or type 'done' to finish): j\n",
            "Enter an integer value for key 'j': 2\n",
            "Enter a key (or type 'done' to finish): done\n",
            "Filtered dictionary with even values: {'a': 12, 'h': 10, 'j': 2}\n"
          ]
        }
      ]
    },
    {
      "cell_type": "markdown",
      "source": [
        "Input Function: The input_dictionary() function allows the user to enter multiple key-value pairs. It continues prompting for keys and values until the user types 'done' for the key.\n",
        "\n",
        "The keys are taken as strings, and the values are converted to integers using int().\n",
        "\n",
        "Filtering: The program uses a dictionary comprehension to filter out key-value pairs where the value is even.\n",
        "\n",
        "Output: Finally, it prints the new dictionary containing only the even values."
      ],
      "metadata": {
        "id": "7_M7c5pOzqO9"
      }
    },
    {
      "cell_type": "markdown",
      "source": [
        "**Write a Python program to count the number of strings where the string length is 2 or more and the first and last character are the same from a given list of strings.**\n",
        "\n",
        "**Sample List : ['abc', 'xyz', 'aba', '1221']**\n",
        "\n",
        "**Expected Result : 2**\n"
      ],
      "metadata": {
        "id": "U31nvxQ20_i9"
      }
    },
    {
      "cell_type": "code",
      "source": [
        "# Take input from the user\n",
        "user_input = input(\"Enter a list of strings separated by commas: \")\n",
        "# Split the input into a list and strip any extra whitespace\n",
        "string_list = [s.strip() for s in user_input.split(',')]\n",
        "\n",
        "# Initialize the count\n",
        "count = 0\n",
        "\n",
        "# Iterate through the list to check the conditions\n",
        "for string in string_list:\n",
        "    if len(string) >= 2 and string[0] == string[-1]:\n",
        "        count += 1\n",
        "\n",
        "# Print the result\n",
        "print(\"Number of strings where the length is 2 or more and the first and last character are the same:\", count)\n"
      ],
      "metadata": {
        "colab": {
          "base_uri": "https://localhost:8080/"
        },
        "id": "rl0lcAAo1AKd",
        "outputId": "285c8497-44bc-495b-c081-5008ce0fed8d"
      },
      "execution_count": null,
      "outputs": [
        {
          "output_type": "stream",
          "name": "stdout",
          "text": [
            "Enter a list of strings separated by commas: abc, xyx, 121, gfr\n",
            "Number of strings where the length is 2 or more and the first and last character are the same: 2\n"
          ]
        }
      ]
    },
    {
      "cell_type": "markdown",
      "source": [
        "Input: The program prompts the user to enter a list of strings separated by commas.\n",
        "\n",
        "Processing:\n",
        "\n",
        "It splits the input string into a list and removes any extra whitespace around each string.\n",
        "\n",
        "It initializes a count variable to zero.\n",
        "\n",
        "It iterates through each string in the list and checks if its length is 2 or more and if the first and last characters are the same.\n",
        "\n",
        "If both conditions are met, it increments the count.\n",
        "\n",
        "Output: Finally, it prints the count of strings that meet the criteria."
      ],
      "metadata": {
        "id": "cu5CuyYu1NJc"
      }
    },
    {
      "cell_type": "code",
      "source": [
        "# Take input from the user\n",
        "user_input = input(\"Enter a list of strings separated by commas: \")\n",
        "# Split the input into a list and strip any extra whitespace\n",
        "string_list = [s.strip() for s in user_input.split(',')]\n",
        "\n",
        "# Use list comprehension to filter and count the qualifying strings\n",
        "count = sum(1 for string in string_list if len(string) >= 2 and string[0] == string[-1])\n",
        "\n",
        "# Print the result\n",
        "print(\"Number of strings where the length is 2 or more and the first and last character are the same:\", count)\n"
      ],
      "metadata": {
        "colab": {
          "base_uri": "https://localhost:8080/"
        },
        "id": "QV_McCzD1fD3",
        "outputId": "2d9ce769-0541-4a4a-b2a6-53aef5cf2891"
      },
      "execution_count": null,
      "outputs": [
        {
          "output_type": "stream",
          "name": "stdout",
          "text": [
            "Enter a list of strings separated by commas: abc, ghr, 121, xyx\n",
            "Number of strings where the length is 2 or more and the first and last character are the same: 2\n"
          ]
        }
      ]
    },
    {
      "cell_type": "code",
      "source": [
        "# Take input from the user\n",
        "user_input = input(\"Enter a list of strings separated by commas: \")\n",
        "# Split the input into a list and strip any extra whitespace\n",
        "string_list = [s.strip() for s in user_input.split(',')]\n",
        "\n",
        "# Initialize the count and index\n",
        "count = 0\n",
        "index = 0\n",
        "\n",
        "# Iterate using a while loop\n",
        "while index < len(string_list):\n",
        "    string = string_list[index]\n",
        "    if len(string) >= 2 and string[0] == string[-1]:\n",
        "        count += 1\n",
        "    index += 1\n",
        "\n",
        "# Print the result\n",
        "print(\"Number of strings where the length is 2 or more and the first and last character are the same:\", count)\n"
      ],
      "metadata": {
        "colab": {
          "base_uri": "https://localhost:8080/"
        },
        "id": "dqMh0Cf41pD8",
        "outputId": "ce09da66-6d03-4afa-888e-3db1ee425982"
      },
      "execution_count": null,
      "outputs": [
        {
          "output_type": "stream",
          "name": "stdout",
          "text": [
            "Enter a list of strings separated by commas: aba, 121, xyy, 131\n",
            "Number of strings where the length is 2 or more and the first and last character are the same: 3\n"
          ]
        }
      ]
    },
    {
      "cell_type": "markdown",
      "source": [
        "**You are given a list of integers. Write a Python program that rearranges the list based on a specific pattern. The pattern is as follows: All even elements should come before all odd elements, and within even and odd elements, they should be sorted in ascending order.**\n",
        "\n",
        "**Test case: Suppose you have the following list of integers:**\n",
        "\n",
        "**Input:3 8 2 5 10 6 4 9**\n",
        "\n",
        "**Output: 2 4 6 8 10 3 5 9**\n"
      ],
      "metadata": {
        "id": "mKKhDBWo2RuA"
      }
    },
    {
      "cell_type": "code",
      "source": [
        "# Take input from the user\n",
        "user_input = input(\"Enter a list of integers separated by spaces: \")\n",
        "\n",
        "# Convert the input string into a list of integers\n",
        "input_list = list(map(int, user_input.split()))\n",
        "\n",
        "# Separate even and odd numbers\n",
        "evens = sorted([num for num in input_list if num % 2 == 0])\n",
        "odds = sorted([num for num in input_list if num % 2 != 0])\n",
        "\n",
        "# Concatenate evens and odds\n",
        "result = evens + odds\n",
        "\n",
        "# Print the output\n",
        "print(\"Output:\", ' '.join(map(str, result)))\n"
      ],
      "metadata": {
        "colab": {
          "base_uri": "https://localhost:8080/"
        },
        "id": "oMu899u-2Uct",
        "outputId": "f7a694fc-531b-4941-af53-8649e783077d"
      },
      "execution_count": null,
      "outputs": [
        {
          "output_type": "stream",
          "name": "stdout",
          "text": [
            "Enter a list of integers separated by spaces: 3 8 2 5 10 9 13 45\n",
            "Output: 2 8 10 3 5 9 13 45\n"
          ]
        }
      ]
    },
    {
      "cell_type": "code",
      "source": [
        "# Take input from the user\n",
        "user_input = input(\"Enter a list of integers separated by spaces: \")\n",
        "\n",
        "# Convert the input string into a list of integers\n",
        "input_list = list(map(int, user_input.split()))\n",
        "\n",
        "# Initialize lists for evens and odds\n",
        "evens = []\n",
        "odds = []\n",
        "\n",
        "# Separate even and odd numbers using a manual loop\n",
        "for num in input_list:\n",
        "    if num % 2 == 0:\n",
        "        evens.append(num)\n",
        "    else:\n",
        "        odds.append(num)\n",
        "\n",
        "# Sort both lists\n",
        "evens.sort()\n",
        "odds.sort()\n",
        "\n",
        "# Concatenate evens and odds\n",
        "result = evens + odds\n",
        "\n",
        "# Print the output\n",
        "print(\"Output:\", ' '.join(map(str, result)))\n"
      ],
      "metadata": {
        "colab": {
          "base_uri": "https://localhost:8080/"
        },
        "id": "oH3L4GxK2mUO",
        "outputId": "182393b8-ee44-4479-a5b6-a076d5313eb5"
      },
      "execution_count": null,
      "outputs": [
        {
          "output_type": "stream",
          "name": "stdout",
          "text": [
            "Enter a list of integers separated by spaces: 7 4 8 99 67 43 101 156\n",
            "Output: 4 8 156 7 43 67 99 101\n"
          ]
        }
      ]
    },
    {
      "cell_type": "markdown",
      "source": [
        "**Write a Python program to calculate the grade of a student based on the total marks scored in 5 subjects and determine if the student is eligible for a scholarship. The program should take the student's marks in 5 subjects as input.**\n",
        "\n",
        "**Scholarship eligibility criteria:**\n",
        "\n",
        "**The average score should be 85 or above for eligibility.**\n",
        "**If the score is between 75 and 85, they should be on a waiting list.**\n",
        "\n",
        "**If the score is below 75, the student is not eligible. **\n",
        "**The program should include a function to calculate the average of the marks.**\n",
        "\n",
        "**Students should also make use of a pass statement in one of the conditions.**\n",
        "\n",
        "**Test case1:**\n",
        "\n",
        "**Input: 92, 88, 79, 85, 90**\n",
        "\n",
        "**Output: Average: 86.8**\n",
        "\n",
        "**Eligible for Scholarship**\n",
        "\n",
        "**Test case2:**\n",
        "\n",
        "**Input: 80, 75, 78, 82, 70**\n",
        "\n",
        "**Output: Average: 77.0**\n",
        "\n",
        "**Waiting List**\n",
        "\n",
        "\n"
      ],
      "metadata": {
        "id": "tRm6OF6u3kgQ"
      }
    },
    {
      "cell_type": "code",
      "source": [
        "# Function to calculate the average of the marks\n",
        "def calculate_average(marks):\n",
        "    return sum(marks) / len(marks)\n",
        "\n",
        "# Take input from the user\n",
        "user_input = input(\"Enter the marks for 5 subjects separated by commas: \")\n",
        "\n",
        "# Convert the input string into a list of integers\n",
        "marks = list(map(int, user_input.split(',')))\n",
        "\n",
        "# Calculate the average marks\n",
        "average = calculate_average(marks)\n",
        "\n",
        "# Print the average\n",
        "print(f\"Average: {average:.1f}\")\n",
        "\n",
        "# Determine scholarship eligibility\n",
        "if average >= 85:\n",
        "    print(\"Eligible for Scholarship\")\n",
        "else:\n",
        "    if average >= 75:\n",
        "        pass  # Placeholder for future conditions\n",
        "        print(\"Waiting List\")\n",
        "    else:\n",
        "        print(\"Not Eligible\")\n"
      ],
      "metadata": {
        "colab": {
          "base_uri": "https://localhost:8080/"
        },
        "id": "aU7-6wx-33Sr",
        "outputId": "26418f34-1d61-40e8-ef26-a2dc9c0beb87"
      },
      "execution_count": null,
      "outputs": [
        {
          "output_type": "stream",
          "name": "stdout",
          "text": [
            "Enter the marks for 5 subjects separated by commas: 23, 45, 98, 67, 74\n",
            "Average: 61.4\n",
            "Not Eligible\n"
          ]
        }
      ]
    },
    {
      "cell_type": "markdown",
      "source": [
        "Function Definition: The calculate_average function takes a list of marks as input and returns the average by dividing the total sum of marks by the number of subjects.\n",
        "\n",
        "Input: The program prompts the user to enter the marks for five subjects, separated by commas.\n",
        "\n",
        "Processing:\n",
        "\n",
        "It converts the input string into a list of integers.\n",
        "\n",
        "The average of the marks is calculated using the defined function.\n",
        "\n",
        "Output:\n",
        "\n",
        "The average is printed formatted to one decimal place.\n",
        "\n",
        "The program checks the scholarship eligibility based on the average:\n",
        "\n",
        "If the average is 85 or above, the student is eligible for a scholarship.\n",
        "\n",
        "If the average is between 75 and 85, the program uses a pass statement (indicating that further actions could be added later) and prints \"Waiting List.\"\n",
        "\n",
        "If the average is below 75, the student is marked as \"Not Eligible.\"\n"
      ],
      "metadata": {
        "id": "MwdOK8Pn4F1o"
      }
    },
    {
      "cell_type": "code",
      "source": [
        "# Take input from the user\n",
        "user_input = input(\"Enter the marks for 5 subjects separated by commas: \")\n",
        "\n",
        "# Convert the input string into a list of integers\n",
        "marks = list(map(int, user_input.split(',')))\n",
        "\n",
        "# Calculate the average marks directly in the print statement\n",
        "average = sum(marks) / len(marks)\n",
        "\n",
        "# Print the average\n",
        "print(f\"Average: {average:.1f}\")\n",
        "\n",
        "# Determine scholarship eligibility using a single if-else statement\n",
        "if average >= 85:\n",
        "    print(\"Eligible for Scholarship\")\n",
        "elif average >= 75:\n",
        "    pass  # Placeholder for future actions\n",
        "    print(\"Waiting List\")\n",
        "else:\n",
        "    print(\"Not Eligible\")\n"
      ],
      "metadata": {
        "colab": {
          "base_uri": "https://localhost:8080/"
        },
        "id": "61rCgBcE4S4g",
        "outputId": "540cf366-ec57-40be-b491-a08a250f922d"
      },
      "execution_count": null,
      "outputs": [
        {
          "output_type": "stream",
          "name": "stdout",
          "text": [
            "Enter the marks for 5 subjects separated by commas: 87,87,88,90,97\n",
            "Average: 89.8\n",
            "Eligible for Scholarship\n"
          ]
        }
      ]
    },
    {
      "cell_type": "code",
      "source": [
        "# Using a While Loop for Input Validation\n",
        "# Function to calculate the average of the marks\n",
        "def calculate_average(marks):\n",
        "    return sum(marks) / len(marks)\n",
        "\n",
        "# Function to get valid input for marks\n",
        "def get_marks():\n",
        "    while True:\n",
        "        try:\n",
        "            user_input = input(\"Enter the marks for 5 subjects separated by commas: \")\n",
        "            marks = list(map(int, user_input.split(',')))\n",
        "            if len(marks) == 5:\n",
        "                return marks\n",
        "            else:\n",
        "                print(\"Please enter exactly 5 marks.\")\n",
        "        except ValueError:\n",
        "            print(\"Invalid input. Please enter integers only.\")\n",
        "\n",
        "# Get valid marks from the user\n",
        "marks = get_marks()\n",
        "\n",
        "# Calculate the average marks\n",
        "average = calculate_average(marks)\n",
        "\n",
        "# Print the average\n",
        "print(f\"Average: {average:.1f}\")\n",
        "\n",
        "# Determine scholarship eligibility\n",
        "if average >= 85:\n",
        "    print(\"Eligible for Scholarship\")\n",
        "elif average >= 75:\n",
        "    pass  # Placeholder for future actions\n",
        "    print(\"Waiting List\")\n",
        "else:\n",
        "    print(\"Not Eligible\")\n"
      ],
      "metadata": {
        "colab": {
          "base_uri": "https://localhost:8080/"
        },
        "id": "x1aqcJa45Qe4",
        "outputId": "2784f4ed-8f32-4cb9-f4d3-6995dabb70c8"
      },
      "execution_count": null,
      "outputs": [
        {
          "output_type": "stream",
          "name": "stdout",
          "text": [
            "Enter the marks for 5 subjects separated by commas: 89,65,45,23,90\n",
            "Average: 62.4\n",
            "Not Eligible\n"
          ]
        }
      ]
    },
    {
      "cell_type": "markdown",
      "source": [
        "**Write a program to generate calender of a month given the start_day and the number of days in that month.**"
      ],
      "metadata": {
        "id": "_WunEv1654rB"
      }
    },
    {
      "cell_type": "code",
      "source": [
        "def generate_calendar(start_day, num_days):\n",
        "    # Days of the week\n",
        "    days_of_week = [\"Sunday\", \"Monday\", \"Tuesday\", \"Wednesday\", \"Thursday\", \"Friday\", \"Saturday\"]\n",
        "\n",
        "    # Print the header\n",
        "    print(\" \".join(days_of_week))\n",
        "    print(\"-\" * 28)\n",
        "\n",
        "    # Create a list to hold the calendar days\n",
        "    calendar_days = [\" \"] * start_day + [str(day) for day in range(1, num_days + 1)]\n",
        "\n",
        "    # Print the calendar in rows of 7\n",
        "    for i in range(0, len(calendar_days), 7):\n",
        "        print(\" \".join(calendar_days[i:i + 7]))\n",
        "\n",
        "# Take input from the user\n",
        "start_day = int(input(\"Enter the starting day (0 for Sunday, 1 for Monday, ..., 6 for Saturday): \"))\n",
        "num_days = int(input(\"Enter the number of days in the month: \"))\n",
        "\n",
        "# Generate the calendar\n",
        "generate_calendar(start_day, num_days)\n"
      ],
      "metadata": {
        "colab": {
          "base_uri": "https://localhost:8080/"
        },
        "id": "yprHGW9N55-s",
        "outputId": "cf1d4e62-5346-4e49-e8c1-f608799c49eb"
      },
      "execution_count": null,
      "outputs": [
        {
          "output_type": "stream",
          "name": "stdout",
          "text": [
            "Enter the starting day (0 for Sunday, 1 for Monday, ..., 6 for Saturday): 1\n",
            "Enter the number of days in the month: 30\n",
            "Sunday Monday Tuesday Wednesday Thursday Friday Saturday\n",
            "----------------------------\n",
            "  1 2 3 4 5 6\n",
            "7 8 9 10 11 12 13\n",
            "14 15 16 17 18 19 20\n",
            "21 22 23 24 25 26 27\n",
            "28 29 30\n"
          ]
        }
      ]
    },
    {
      "cell_type": "markdown",
      "source": [
        "Input: The program prompts the user to enter the starting day of the month (with Sunday as 0) and the total number of days in that month.\n",
        "\n",
        "Days of the Week: It defines a list representing the days of the week.\n",
        "\n",
        "Calendar Generation:\n",
        "\n",
        "It creates a list of calendar days, initializing it with empty spaces for the days before the start day.\n",
        "\n",
        "The days of the month are added to this list.\n",
        "\n",
        "Output: It prints the calendar in rows of seven, aligning the days correctly according to the start day."
      ],
      "metadata": {
        "id": "6N04E5F96M26"
      }
    },
    {
      "cell_type": "code",
      "source": [
        "def print_calendar_header():\n",
        "    days_of_week = [\"Sun\", \"Mon\", \"Tue\", \"Wed\", \"Thu\", \"Fri\", \"Sat\"]\n",
        "    print(\" \".join(days_of_week))\n",
        "    print(\"-\" * 28)\n",
        "\n",
        "def generate_calendar(start_day, num_days):\n",
        "    print_calendar_header()\n",
        "\n",
        "    calendar_days = [\" \"] * start_day + [str(day) for day in range(1, num_days + 1)]\n",
        "\n",
        "    # Print the calendar in rows of 7\n",
        "    for i in range(0, len(calendar_days), 7):\n",
        "        print(\" \".join(calendar_days[i:i + 7]))\n",
        "\n",
        "# Take input from the user\n",
        "start_day = int(input(\"Enter the starting day (0 for Sunday, 1 for Monday, ..., 6 for Saturday): \"))\n",
        "num_days = int(input(\"Enter the number of days in the month: \"))\n",
        "\n",
        "# Generate the calendar\n",
        "generate_calendar(start_day, num_days)\n"
      ],
      "metadata": {
        "colab": {
          "base_uri": "https://localhost:8080/"
        },
        "id": "y_C4y7zQ62Th",
        "outputId": "fb602601-b25b-427d-ff3a-bc7f19b50db3"
      },
      "execution_count": null,
      "outputs": [
        {
          "output_type": "stream",
          "name": "stdout",
          "text": [
            "Enter the starting day (0 for Sunday, 1 for Monday, ..., 6 for Saturday): 1\n",
            "Enter the number of days in the month: 30\n",
            "Sun Mon Tue Wed Thu Fri Sat\n",
            "----------------------------\n",
            "  1 2 3 4 5 6\n",
            "7 8 9 10 11 12 13\n",
            "14 15 16 17 18 19 20\n",
            "21 22 23 24 25 26 27\n",
            "28 29 30\n"
          ]
        }
      ]
    },
    {
      "cell_type": "markdown",
      "source": [
        "**Write a Python program that takes an integer n as input and prints a hollow square pattern of size n x n using asterisks (*) and spaces. The pattern should have asterisks on the outer boundary, forming a square, while the inner cells should contain spaces.**\n",
        "\n",
        " **Test case:**\n",
        "**Enter the size of the hollow square: 8**\n",
        "\n",
        "    *  *   *  *  *  *  * *\n",
        "    *         \t         *\n",
        "    *         \t         *\n",
        "    *         \t         *\n",
        "    *         \t         *\n",
        "    *         \t         *\n",
        "    *         \t         *\n",
        "    *  *  *  *  *  *  *   *\n",
        "\n"
      ],
      "metadata": {
        "id": "Hc6DWp_B7lIn"
      }
    },
    {
      "cell_type": "code",
      "source": [
        "# Take input from the user\n",
        "n = int(input(\"Enter the size of the hollow square: \"))\n",
        "\n",
        "# Loop to create the pattern\n",
        "for i in range(n):\n",
        "    for j in range(n):\n",
        "        # Print '*' for the border and spaces for the inner cells\n",
        "        if i == 0 or i == n - 1 or j == 0 or j == n - 1:\n",
        "            print('*', end=' ')\n",
        "        else:\n",
        "            print(' ', end=' ')\n",
        "    print()  # Move to the next line after each row\n"
      ],
      "metadata": {
        "colab": {
          "base_uri": "https://localhost:8080/"
        },
        "id": "cL7KpPQK8CL4",
        "outputId": "dc3508ec-067d-4fa7-e7f4-b7287ff52573"
      },
      "execution_count": null,
      "outputs": [
        {
          "output_type": "stream",
          "name": "stdout",
          "text": [
            "Enter the size of the hollow square: 8\n",
            "* * * * * * * * \n",
            "*             * \n",
            "*             * \n",
            "*             * \n",
            "*             * \n",
            "*             * \n",
            "*             * \n",
            "* * * * * * * * \n"
          ]
        }
      ]
    },
    {
      "cell_type": "markdown",
      "source": [
        "Input: The program prompts the user to enter the size of the hollow square.\n",
        "\n",
        "Nested Loops:\n",
        "\n",
        "The outer loop iterates through each row (i from 0 to n-1).\n",
        "\n",
        "The inner loop iterates through each column (j from 0 to n-1).\n",
        "\n",
        "Conditions:\n",
        "\n",
        "An asterisk (*) is printed if:\n",
        "\n",
        "The current row is the first row (i == 0).\n",
        "\n",
        "The current row is the last row (i == n - 1).\n",
        "\n",
        "The current column is the first column (j == 0).\n",
        "\n",
        "The current column is the last column (j == n - 1).\n",
        "\n",
        "A space is printed for all inner cells.\n",
        "\n",
        "Output: The print() function with end=' ' keeps the output on the same line, and print() at the end of the inner loop moves to the next line.\n"
      ],
      "metadata": {
        "id": "KGodXY6n8PKm"
      }
    },
    {
      "cell_type": "code",
      "source": [
        "# Using a Single Print Statement\n",
        "# Take input from the user\n",
        "n = int(input(\"Enter the size of the hollow square: \"))\n",
        "\n",
        "# Loop to create the pattern\n",
        "for i in range(n):\n",
        "    print(' '.join('*' if i == 0 or i == n - 1 or j == 0 or j == n - 1 else ' ' for j in range(n)))\n"
      ],
      "metadata": {
        "colab": {
          "base_uri": "https://localhost:8080/"
        },
        "id": "I1KiVfEm8ieo",
        "outputId": "eddeae87-4664-4887-a836-00181c914ec9"
      },
      "execution_count": null,
      "outputs": [
        {
          "output_type": "stream",
          "name": "stdout",
          "text": [
            "Enter the size of the hollow square: 6\n",
            "* * * * * *\n",
            "*         *\n",
            "*         *\n",
            "*         *\n",
            "*         *\n",
            "* * * * * *\n"
          ]
        }
      ]
    },
    {
      "cell_type": "markdown",
      "source": [
        "**Consider two lists representing the x and y coordinates of 50 random data points. Write a Python program for the following tasks:**\n",
        "1.\t**Create a scatter plot of the data points.**\n",
        "2.\t**Calculate and display the average value of the x-coordinates and the y-coordinates on the scatter plot.**"
      ],
      "metadata": {
        "id": "PbPqsz4dp2x9"
      }
    },
    {
      "cell_type": "code",
      "source": [
        "import matplotlib.pyplot as plt\n",
        "import numpy as np\n",
        "\n",
        "# Generate random data for x and y coordinates\n",
        "x = np.random.rand(50)  # 50 random x-coordinates between 0 and 1\n",
        "y = np.random.rand(50)  # 50 random y-coordinates between 0 and 1\n",
        "\n",
        "# Calculate the average values of x and y\n",
        "avg_x = np.mean(x)\n",
        "avg_y = np.mean(y)\n",
        "\n",
        "# Create the scatter plot\n",
        "plt.scatter(x, y, label='Data points')\n",
        "\n",
        "# Display the average values on the scatter plot\n",
        "plt.axvline(avg_x, color='r', linestyle='--', label=f'Average x = {avg_x:.2f}')\n",
        "plt.axhline(avg_y, color='g', linestyle='--', label=f'Average y = {avg_y:.2f}')\n",
        "\n",
        "# Add labels and title\n",
        "plt.xlabel('X Coordinates')\n",
        "plt.ylabel('Y Coordinates')\n",
        "plt.title('Scatter Plot of Random Data Points')\n",
        "\n",
        "# Show legend\n",
        "plt.legend()\n",
        "\n",
        "# Display the plot\n",
        "plt.show()\n",
        "\n",
        "# Print the average values\n",
        "print(f\"Average x-coordinate: {avg_x:.2f}\")\n",
        "print(f\"Average y-coordinate: {avg_y:.2f}\")\n"
      ],
      "metadata": {
        "colab": {
          "base_uri": "https://localhost:8080/",
          "height": 507
        },
        "id": "akqujnL_qO0D",
        "outputId": "30128aa4-69b2-4d5f-e911-0d827bec7f90"
      },
      "execution_count": null,
      "outputs": [
        {
          "output_type": "display_data",
          "data": {
            "text/plain": [
              "<Figure size 640x480 with 1 Axes>"
            ],
            "image/png": "[encoded data removed]"
          },
          "metadata": {}
        },
        {
          "output_type": "stream",
          "name": "stdout",
          "text": [
            "Average x-coordinate: 0.51\n",
            "Average y-coordinate: 0.49\n"
          ]
        }
      ]
    },
    {
      "cell_type": "markdown",
      "source": [
        "**Implement a program that searches for a specific element in a NumPy array and returns its index and  Create a program that generates a random NumPy array and sorts it in ascending and descending order**"
      ],
      "metadata": {
        "id": "lg1HTZmTq13n"
      }
    },
    {
      "cell_type": "code",
      "source": [
        "import numpy as np\n",
        "\n",
        "# Task 1: Search for a specific element in a NumPy array and return its index\n",
        "array = np.array([1, 2, 3, 4, 5, 6, 7, 8, 9, 10])\n",
        "element_to_search = 7\n",
        "\n",
        "# Using np.where to find the index of the element\n",
        "indices = np.where(array == element_to_search)\n",
        "\n",
        "if indices[0].size > 0:\n",
        "    print(f\"Index of element {element_to_search}: {indices[0][0]}\")\n",
        "else:\n",
        "    print(\"Element not found in the array\")\n",
        "\n",
        "# Task 2: Generate a random NumPy array and sort it in ascending and descending order\n",
        "arr = np.random.randint(0, 20, 10)  # Generate a random array of size 10 with values between 0 and 20\n",
        "print(f\"Original Array: {arr}\")\n",
        "\n",
        "# Sort the array in ascending order\n",
        "sorted_asc = np.sort(arr)\n",
        "print(f\"Array in Ascending Order: {sorted_asc}\")\n",
        "\n",
        "# Sort the array in descending order\n",
        "sorted_desc = np.sort(arr)[::-1]\n",
        "print(f\"Array in Descending Order: {sorted_desc}\")\n"
      ],
      "metadata": {
        "colab": {
          "base_uri": "https://localhost:8080/"
        },
        "id": "y-5dF3qkrUps",
        "outputId": "394e0ae8-00e0-4c42-b516-935617d34e36"
      },
      "execution_count": null,
      "outputs": [
        {
          "output_type": "stream",
          "name": "stdout",
          "text": [
            "Index of element 7: 6\n",
            "Original Array: [ 4  7  2 16  5 12  6  8  2 10]\n",
            "Array in Ascending Order: [ 2  2  4  5  6  7  8 10 12 16]\n",
            "Array in Descending Order: [16 12 10  8  7  6  5  4  2  2]\n"
          ]
        }
      ]
    },
    {
      "cell_type": "markdown",
      "source": [
        "**You are a data analyst working for a retail company. The company wants to visualize its sales data to understand trends and patterns.** **Create a visual representations of this data using Matplotlib.**\n",
        "\n",
        "**Write a Python program that**\n",
        "\n",
        "**1.\tCreate a line chart to show the trend of sales over the months**\n",
        "**2.\tAdd markers, a grid, labels for the x and y axes, and a title to the chart.**\n",
        "\n",
        "**['Jan', 'Feb', 'Mar',’Apr’, ‘May’,’Jun’,’Jul’,’Aug’,’Sep’, ‘Oct’,’Nov’,‘Dec’]**\n",
        "\n",
        "**[12000, 15000, 13000, 17000, 14000, 17000, 18000, 17000, 17700,  18900, 20000, 21000]**"
      ],
      "metadata": {
        "id": "jxNJH1PCsH-S"
      }
    },
    {
      "cell_type": "code",
      "source": [
        "import matplotlib.pyplot as plt\n",
        "\n",
        "# Data\n",
        "months = ['Jan', 'Feb', 'Mar', 'Apr', 'May', 'Jun', 'Jul', 'Aug', 'Sep', 'Oct', 'Nov', 'Dec']\n",
        "sales = [12000, 15000, 13000, 17000, 14000, 17000, 18000, 17000, 17700, 18900, 20000, 21000]\n",
        "\n",
        "# Create a line chart\n",
        "plt.plot(months, sales, marker='o', linestyle='-', color='b', label='Sales')\n",
        "\n",
        "# Add grid\n",
        "plt.grid(True)\n",
        "\n",
        "# Add labels and title\n",
        "plt.xlabel('Months')\n",
        "plt.ylabel('Sales in USD')\n",
        "plt.title('Monthly Sales Trend')\n",
        "\n",
        "# Show the legend\n",
        "plt.legend()\n",
        "\n",
        "# Display the plot\n",
        "plt.xticks(rotation=45)  # Rotate x-axis labels for better readability\n",
        "plt.tight_layout()  # Adjust layout to make room for the labels\n",
        "plt.show()\n"
      ],
      "metadata": {
        "colab": {
          "base_uri": "https://localhost:8080/",
          "height": 487
        },
        "id": "ILsWV96BtQTi",
        "outputId": "645a169d-f38a-4e42-ba44-50239f1c1f50"
      },
      "execution_count": null,
      "outputs": [
        {
          "output_type": "display_data",
          "data": {
            "text/plain": [
              "<Figure size 640x480 with 1 Axes>"
            ],
            "image/png": "[encoded data removed]"
          },
          "metadata": {}
        }
      ]
    },
    {
      "cell_type": "markdown",
      "source": [
        "**Write a Python program using NumPy to create a 3x3 matrix filled with random integers between 1 and 100. Calculate the matrix's determinant, transpose, and inverse (if it exists). Display the original matrix and the results of these operations. Handle any exceptions that may occur.**"
      ],
      "metadata": {
        "id": "c55sGWj8uC3e"
      }
    },
    {
      "cell_type": "code",
      "source": [
        "import numpy as np\n",
        "\n",
        "# Create a 3x3 matrix with random integers between 1 and 100\n",
        "matrix = np.random.randint(1, 101, size=(3, 3))\n",
        "\n",
        "# Display the original matrix\n",
        "print(\"Original Matrix:\")\n",
        "print(matrix)\n",
        "\n",
        "try:\n",
        "    # Calculate the determinant of the matrix\n",
        "    determinant = np.linalg.det(matrix)\n",
        "    print(f\"\\nDeterminant: {determinant}\")\n",
        "\n",
        "    # Calculate the transpose of the matrix\n",
        "    transpose = np.transpose(matrix)\n",
        "    print(f\"\\nTranspose of the matrix:\")\n",
        "    print(transpose)\n",
        "\n",
        "    # Calculate the inverse of the matrix, if it exists\n",
        "    if determinant != 0:\n",
        "        inverse = np.linalg.inv(matrix)\n",
        "        print(f\"\\nInverse of the matrix:\")\n",
        "        print(inverse)\n",
        "    else:\n",
        "        print(\"\\nThe matrix is singular and does not have an inverse.\")\n",
        "\n",
        "except np.linalg.LinAlgError as e:\n",
        "    print(f\"\\nError in matrix operations: {e}\")\n"
      ],
      "metadata": {
        "colab": {
          "base_uri": "https://localhost:8080/"
        },
        "id": "BVMQwavauDcv",
        "outputId": "bc41b1bf-088f-4ca0-870b-28e9d580eb94"
      },
      "execution_count": null,
      "outputs": [
        {
          "output_type": "stream",
          "name": "stdout",
          "text": [
            "Original Matrix:\n",
            "[[70 62 91]\n",
            " [33 32 56]\n",
            " [85 12 61]]\n",
            "\n",
            "Determinant: 48430.00000000005\n",
            "\n",
            "Transpose of the matrix:\n",
            "[[70 33 85]\n",
            " [62 32 12]\n",
            " [91 56 61]]\n",
            "\n",
            "Inverse of the matrix:\n",
            "[[ 0.0264299  -0.05554408  0.01156308]\n",
            " [ 0.05672104 -0.07154656 -0.01893454]\n",
            " [-0.04798679  0.09147223  0.00400578]]\n"
          ]
        }
      ]
    },
    {
      "cell_type": "markdown",
      "source": [
        "**Create a 2x2 grid of subplots in Matplotlib, with each subplot displaying a different type of chart (line chart, scatter plot, histogram, and bar chart). Ensure each subplot has its own title.**\n",
        "\n",
        "Data Set:\n",
        "\n",
        "Line chart and Scatter plot:\n",
        "\n",
        "x = [5, 7, 8, 7, 2, 17, 2, 9, 4, 11], y = [99, 86, 87, 88, 100, 86, 103, 87, 94, 78]\n",
        "\n",
        "Histogram Data:\n",
        "\n",
        "data = [22, 87, 5, 43, 56, 73, 55, 54, 11, 20, 51, 5, 79, 31, 27] (create a histogram with bins set to 5).\n",
        "\n",
        "Bar Chart Data: categories = ['A', 'B', 'C', 'D'], values = [5, 7, 3, 8]\n"
      ],
      "metadata": {
        "id": "iehGpcW3wAWh"
      }
    },
    {
      "cell_type": "code",
      "source": [
        "import matplotlib.pyplot as plt\n",
        "\n",
        "# Data for the charts\n",
        "x = [5, 7, 8, 7, 2, 17, 2, 9, 4, 11]\n",
        "y = [99, 86, 87, 88, 100, 86, 103, 87, 94, 78]\n",
        "\n",
        "hist_data = [22, 87, 5, 43, 56, 73, 55, 54, 11, 20, 51, 5, 79, 31, 27]\n",
        "\n",
        "categories = ['A', 'B', 'C', 'D']\n",
        "values = [5, 7, 3, 8]\n",
        "\n",
        "# Create a 2x2 grid of subplots\n",
        "plt.figure(figsize=(10, 8))\n",
        "\n",
        "# Line chart in the first subplot (1st position)\n",
        "plt.subplot(2, 2, 1)\n",
        "plt.plot(x, y, marker='o', color='b')\n",
        "plt.title('Line Chart')\n",
        "plt.xlabel('X')\n",
        "plt.ylabel('Y')\n",
        "\n",
        "# Scatter plot in the second subplot (2nd position)\n",
        "plt.subplot(2, 2, 2)\n",
        "plt.scatter(x, y, color='r')\n",
        "plt.title('Scatter Plot')\n",
        "plt.xlabel('X')\n",
        "plt.ylabel('Y')\n",
        "\n",
        "# Histogram in the third subplot (3rd position)\n",
        "plt.subplot(2, 2, 3)\n",
        "plt.hist(hist_data, bins=5, color='g', edgecolor='black')\n",
        "plt.title('Histogram')\n",
        "plt.xlabel('Data')\n",
        "plt.ylabel('Frequency')\n",
        "\n",
        "# Bar chart in the fourth subplot (4th position)\n",
        "plt.subplot(2, 2, 4)\n",
        "plt.bar(categories, values, color='orange')\n",
        "plt.title('Bar Chart')\n",
        "plt.xlabel('Categories')\n",
        "plt.ylabel('Values')\n",
        "\n",
        "# Adjust the layout to avoid overlapping\n",
        "plt.tight_layout()\n",
        "\n",
        "# Display the plot\n",
        "plt.show()\n"
      ],
      "metadata": {
        "colab": {
          "base_uri": "https://localhost:8080/",
          "height": 807
        },
        "id": "b2GzsbbawBFB",
        "outputId": "9c647ac1-7c85-40ed-b346-4a0772940d9f"
      },
      "execution_count": null,
      "outputs": [
        {
          "output_type": "display_data",
          "data": {
            "text/plain": [
              "<Figure size 1000x800 with 4 Axes>"
            ],
            "image/png": "[encoded data removed]"
          },
          "metadata": {}
        }
      ]
    },
    {
      "cell_type": "markdown",
      "source": [
        "**a)WAP to create a 2D NumPy array of shape (4, 5) containing integers from 1 to 20. Reshape this array into a new shape of (5, 4). Print the original and reshaped arrays.**\n",
        "\n",
        "**b)WAP to create a NumPy array with random integers between 1 and 100. Sort the array in ascending order and then slice the array to get the top 5 largest elements. Print the sorted and sliced array.**\n"
      ],
      "metadata": {
        "id": "_Dwmuy8ewye9"
      }
    },
    {
      "cell_type": "code",
      "source": [
        "import numpy as np\n",
        "\n",
        "# Create a 2D NumPy array with shape (4, 5) containing integers from 1 to 20\n",
        "array_1 = np.arange(1, 21).reshape(4, 5)\n",
        "\n",
        "# Reshape the array to (5, 4)\n",
        "reshaped_array = array_1.reshape(5, 4)\n",
        "\n",
        "# Print the original and reshaped arrays\n",
        "print(\"Original Array (4, 5):\")\n",
        "print(array_1)\n",
        "\n",
        "print(\"\\nReshaped Array (5, 4):\")\n",
        "print(reshaped_array)\n"
      ],
      "metadata": {
        "colab": {
          "base_uri": "https://localhost:8080/"
        },
        "id": "eFq8dViHw_GT",
        "outputId": "0ce99652-fcf9-4207-c184-24d848c59353"
      },
      "execution_count": null,
      "outputs": [
        {
          "output_type": "stream",
          "name": "stdout",
          "text": [
            "Original Array (4, 5):\n",
            "[[ 1  2  3  4  5]\n",
            " [ 6  7  8  9 10]\n",
            " [11 12 13 14 15]\n",
            " [16 17 18 19 20]]\n",
            "\n",
            "Reshaped Array (5, 4):\n",
            "[[ 1  2  3  4]\n",
            " [ 5  6  7  8]\n",
            " [ 9 10 11 12]\n",
            " [13 14 15 16]\n",
            " [17 18 19 20]]\n"
          ]
        }
      ]
    },
    {
      "cell_type": "code",
      "source": [
        "# Create a NumPy array with random integers between 1 and 100 (size 20)\n",
        "array_2 = np.random.randint(1, 101, size=20)\n",
        "\n",
        "# Sort the array in ascending order\n",
        "sorted_array = np.sort(array_2)\n",
        "\n",
        "# Slice the array to get the top 5 largest elements (last 5 elements in sorted array)\n",
        "top_5_largest = sorted_array[-5:]\n",
        "\n",
        "# Print the sorted and sliced array\n",
        "print(\"Sorted Array (Ascending Order):\")\n",
        "print(sorted_array)\n",
        "\n",
        "print(\"\\nTop 5 Largest Elements:\")\n",
        "print(top_5_largest)\n"
      ],
      "metadata": {
        "colab": {
          "base_uri": "https://localhost:8080/"
        },
        "id": "bsW6HXbRxE36",
        "outputId": "242f082e-bce9-49a8-f355-f58deca308e7"
      },
      "execution_count": null,
      "outputs": [
        {
          "output_type": "stream",
          "name": "stdout",
          "text": [
            "Sorted Array (Ascending Order):\n",
            "[ 5 17 17 18 30 37 38 41 44 44 44 49 56 59 65 67 72 80 80 98]\n",
            "\n",
            "Top 5 Largest Elements:\n",
            "[67 72 80 80 98]\n"
          ]
        }
      ]
    },
    {
      "cell_type": "markdown",
      "source": [
        "300 children were asked to choose their favorite ice cream flavor.\n",
        "WAP to show this data on a Pie chart with the percentage of children choosing  different ice cream flavors\n",
        "\n",
        "![image.png](data:image/png;base64,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)\n",
        "\n",
        "\n"
      ],
      "metadata": {
        "id": "Pv7_L0SBx2ed"
      }
    },
    {
      "cell_type": "code",
      "source": [
        "import matplotlib.pyplot as plt\n",
        "\n",
        "# Data for the ice cream flavors and their frequencies\n",
        "flavors = ['Strawberry', 'Vanilla', 'Chocolate', 'Butterscotch', 'Raspberry', 'Mint', 'Blueberry']\n",
        "frequencies = [44, 76, 30, 78, 39, 11, 22]\n",
        "\n",
        "# Total number of children surveyed\n",
        "total_children = 300\n",
        "\n",
        "# Calculate the percentage for each flavor\n",
        "percentages = [(freq / total_children) * 100 for freq in frequencies]\n",
        "\n",
        "# Create a pie chart\n",
        "plt.figure(figsize=(8, 8))\n",
        "plt.pie(percentages, labels=flavors, autopct='%1.1f%%', startangle=140)\n",
        "\n",
        "# Add a title\n",
        "plt.title('Favorite Ice Cream Flavors of 300 Children')\n",
        "\n",
        "# Display the pie chart\n",
        "plt.show()\n"
      ],
      "metadata": {
        "colab": {
          "base_uri": "https://localhost:8080/",
          "height": 675
        },
        "id": "q_Iq2-QEx26C",
        "outputId": "ddc3ea64-4c3d-490f-9747-c6183b2a0247"
      },
      "execution_count": null,
      "outputs": [
        {
          "output_type": "display_data",
          "data": {
            "text/plain": [
              "<Figure size 800x800 with 1 Axes>"
            ],
            "image/png": "[encoded data removed]"
          },
          "metadata": {}
        }
      ]
    },
    {
      "cell_type": "markdown",
      "source": [
        "**Create an array of prime numbers between 2 and 1000. Create another array of prime numbers between 2000 and 4000.**\n",
        "\n",
        "**Truncate the larger array to make it the same size as the smaller array. Then find the correlation between the two arrays.**\n"
      ],
      "metadata": {
        "id": "GbaXD-1P0Glg"
      }
    },
    {
      "cell_type": "code",
      "source": [
        "import numpy as np\n",
        "\n",
        "# Function to check if a number is prime\n",
        "def is_prime(num):\n",
        "    if num < 2:\n",
        "        return False\n",
        "    for i in range(2, int(num ** 0.5) + 1):\n",
        "        if num % i == 0:\n",
        "            return False\n",
        "    return True\n",
        "\n",
        "# Generate prime numbers between 2 and 1000\n",
        "primes_1 = [i for i in range(2, 1001) if is_prime(i)]\n",
        "\n",
        "# Generate prime numbers between 2000 and 4000\n",
        "primes_2 = [i for i in range(2000, 4001) if is_prime(i)]\n",
        "\n",
        "# Truncate the larger array to the size of the smaller array\n",
        "min_length = min(len(primes_1), len(primes_2))\n",
        "primes_1 = primes_1[:min_length]\n",
        "primes_2 = primes_2[:min_length]\n",
        "\n",
        "# Convert the lists to NumPy arrays\n",
        "primes_1_array = np.array(primes_1)\n",
        "primes_2_array = np.array(primes_2)\n",
        "\n",
        "# Calculate the correlation between the two arrays\n",
        "correlation = np.corrcoef(primes_1_array, primes_2_array)[0, 1]\n",
        "\n",
        "# Print the correlation\n",
        "print(f\"Correlation between the two arrays: {correlation:.4f}\")\n"
      ],
      "metadata": {
        "colab": {
          "base_uri": "https://localhost:8080/"
        },
        "id": "2u0hetX40Rf8",
        "outputId": "08eeb719-8d77-4ae3-d0f7-47cf5300e709"
      },
      "execution_count": null,
      "outputs": [
        {
          "output_type": "stream",
          "name": "stdout",
          "text": [
            "Correlation between the two arrays: 0.9985\n"
          ]
        }
      ]
    },
    {
      "cell_type": "markdown",
      "source": [
        "**Write a Python program using Matplotlib to create a line plot of the function y=x^2 for x values ranging from -10 to 10. Label the x-axis as \"X Values\", the y-axis as \"Y Values\", and give the plot a title.\n",
        "Expected Output: A line plot of y = x^2 with appropriate labels and title.**\n"
      ],
      "metadata": {
        "id": "g0Bv03461ii_"
      }
    },
    {
      "cell_type": "code",
      "source": [
        "import matplotlib.pyplot as plt\n",
        "import numpy as np\n",
        "\n",
        "# Generate x values from -10 to 10\n",
        "x = np.linspace(-10, 10, 400)\n",
        "\n",
        "# Compute y values as y = x^2\n",
        "y = x**2\n",
        "\n",
        "# Create a line plot\n",
        "plt.plot(x, y, label=r'$y = x^2$', color='b')\n",
        "\n",
        "# Label the axes and give the plot a title\n",
        "plt.xlabel(\"X Values\")\n",
        "plt.ylabel(\"Y Values\")\n",
        "plt.title(\"Line Plot of $y = x^2$\")\n",
        "\n",
        "# Display the legend\n",
        "plt.legend()\n",
        "\n",
        "# Display the plot\n",
        "plt.show()\n"
      ],
      "metadata": {
        "colab": {
          "base_uri": "https://localhost:8080/",
          "height": 476
        },
        "id": "EgDfDwjW1mus",
        "outputId": "8571630d-a40f-4e0d-99eb-8ce745caa563"
      },
      "execution_count": null,
      "outputs": [
        {
          "output_type": "display_data",
          "data": {
            "text/plain": [
              "<Figure size 640x480 with 1 Axes>"
            ],
            "image/png": "[encoded data removed]"
          },
          "metadata": {}
        }
      ]
    },
    {
      "cell_type": "markdown",
      "source": [
        "Assume a 3*3 array of your choice. Write a program that sorts all the rows in the array and then adds column wise. So you take a 3**3 array, sort all its rows and then add entries column wise.\n",
        "Reference example:\n",
        "\n",
        "Array [(3,1,2),(9,5,6),(4,8,7)]\n",
        "\n",
        "Rows sorted : [[1 2 3] [5 6 9] [4 7 8]]\n",
        "\n",
        "Added in column-wise fashion: [10 15 20]\n"
      ],
      "metadata": {
        "id": "kMOGwmig2Nx4"
      }
    },
    {
      "cell_type": "code",
      "source": [
        "import numpy as np\n",
        "\n",
        "# Create a 3x3 array of your choice\n",
        "array = np.array([[3, 1, 2],\n",
        "                  [9, 5, 6],\n",
        "                  [4, 8, 7]])\n",
        "\n",
        "# Sort each row\n",
        "sorted_array = np.sort(array, axis=1)\n",
        "\n",
        "# Add the values column-wise\n",
        "column_sum = np.sum(sorted_array, axis=0)\n",
        "\n",
        "# Print the results\n",
        "print(\"Original Array:\")\n",
        "print(array)\n",
        "\n",
        "print(\"\\nRows Sorted:\")\n",
        "print(sorted_array)\n",
        "\n",
        "print(\"\\nAdded in Column-Wise Fashion:\")\n",
        "print(column_sum)\n"
      ],
      "metadata": {
        "colab": {
          "base_uri": "https://localhost:8080/"
        },
        "id": "hk3jKwLe2cbJ",
        "outputId": "8bc57596-4eb9-4736-a24e-779c76d21afb"
      },
      "execution_count": null,
      "outputs": [
        {
          "output_type": "stream",
          "name": "stdout",
          "text": [
            "Original Array:\n",
            "[[3 1 2]\n",
            " [9 5 6]\n",
            " [4 8 7]]\n",
            "\n",
            "Rows Sorted:\n",
            "[[1 2 3]\n",
            " [5 6 9]\n",
            " [4 7 8]]\n",
            "\n",
            "Added in Column-Wise Fashion:\n",
            "[10 15 20]\n"
          ]
        }
      ]
    },
    {
      "cell_type": "markdown",
      "source": [
        "Create a 3x3 Array: The array [[3, 1, 2], [9, 5, 6], [4, 8, 7]] is created using np.array().\n",
        "\n",
        "Sort Each Row: The np.sort(array, axis=1) sorts each row of the array individually. The axis=1 ensures that sorting is done along the rows.\n",
        "\n",
        "Column-Wise Addition: The np.sum(sorted_array, axis=0) adds the values in each column after sorting the rows. The axis=0 argument specifies that the sum should be calculated along columns.\n",
        "\n",
        "Display: The program prints the original array, the sorted rows, and the column-wise sum."
      ],
      "metadata": {
        "id": "Hqhq0-B-3Yr-"
      }
    }
  ]
}